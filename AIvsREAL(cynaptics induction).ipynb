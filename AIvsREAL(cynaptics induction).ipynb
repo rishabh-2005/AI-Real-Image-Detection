{
  "nbformat": 4,
  "nbformat_minor": 0,
  "metadata": {
    "colab": {
      "provenance": []
    },
    "kernelspec": {
      "name": "python3",
      "display_name": "Python 3"
    },
    "language_info": {
      "name": "python"
    }
  },
  "cells": [
    {
      "cell_type": "code",
      "source": [
        " byimport os                                                                       #OS for path of folders\n",
        "import cv2                                                                      #cv2 for reading the images\n",
        "import numpy as np                                                              #numpy for numpy arrays\n",
        "import tensorflow as tf                                                         #tensorflow for the convolutional neural network model\n",
        "from sklearn.model_selection import train_test_split                            #spliting the training set\n",
        "from tensorflow.keras import layers, models, callbacks                          #adding custom layers to our model\n",
        "from sklearn.preprocessing import LabelEncoder                                  #assigning proper labels to our predictions\n",
        "\n",
        "from tensorflow.keras.applications import MobileNetV2                           #our model is based on MobileNetV2"
      ],
      "metadata": {
        "id": "a5NUqLGr9_p1"
      },
      "execution_count": null,
      "outputs": []
    },
    {
      "cell_type": "code",
      "execution_count": null,
      "metadata": {
        "colab": {
          "base_uri": "https://localhost:8080/"
        },
        "id": "VKjMpcGejkI6",
        "outputId": "75f82cf9-0574-49fd-8e28-83f581056c91"
      },
      "outputs": [
        {
          "output_type": "stream",
          "name": "stdout",
          "text": [
            "Mounted at /content/drive\n"
          ]
        }
      ],
      "source": [
        "from google.colab import drive\n",
        "drive.mount('/content/drive')"
      ]
    },
    {
      "cell_type": "code",
      "execution_count": null,
      "metadata": {
        "id": "KGHArbsubcbQ"
      },
      "outputs": [],
      "source": [
        "data_dir_AI = \"/content/drive/MyDrive/ai\"                     #data directories for ai and real images\n",
        "data_dir_Real = \"/content/drive/MyDrive/real\"\n",
        "\n",
        "images = []                                                   #lists where images and labels will be stored\n",
        "labels = []\n",
        "\n",
        "for data_dir in [data_dir_AI, data_dir_Real]:\n",
        "    file_paths = [os.path.join(data_dir, file) for file in os.listdir(data_dir)]\n",
        "    for file_path in file_paths:\n",
        "        if file_path.endswith('.jpg') or file_path.endswith('.png'):\n",
        "            image = cv2.imread(file_path)\n",
        "            if image is not None:\n",
        "                image = cv2.resize(image, (128, 128))                                   #resizing all the images to the same size of 128x128\n",
        "                images.append(image)                                              #appending images a nd their respective labels , where real is 1 and ai is 0\n",
        "                labels.append(0 if data_dir == data_dir_AI else 1)\n",
        "\n",
        "# Convert lists to numpy arrays\n",
        "images = np.array(images)                                                         #converting list to numpy arrays\n",
        "labels = np.array(labels)"
      ]
    },
    {
      "cell_type": "code",
      "source": [
        "train_images, test_images, train_labels, test_labels = train_test_split(images, labels, test_size=0.2, random_state=42)  # split the dataset into training and testing sets\n",
        "\n",
        "train_images = train_images / 255.0                                                                                      #resccaling the pixel values\n",
        "test_images = test_images / 255.0\n",
        "\n",
        "base_model = MobileNetV2(weights='imagenet', include_top=False, input_shape=(128, 128, 3))\n",
        "\n",
        "for layer in base_model.layers:\n",
        "    layer.trainable = False\n",
        "\n",
        "\n",
        "model = models.Sequential([\n",
        "    base_model,\n",
        "    layers.GlobalAveragePooling2D(),\n",
        "    layers.Dense(128, activation='relu'),\n",
        "    layers.Dropout(0.2),\n",
        "    layers.Dense(1, activation='sigmoid')\n",
        "])\n",
        "\n",
        "\n",
        "opt = tf.keras.optimizers.Adam(learning_rate=0.0001)                    #compiling the model\n",
        "model.compile(optimizer=opt,\n",
        "              loss='binary_crossentropy',\n",
        "              metrics=['accuracy'])"
      ],
      "metadata": {
        "id": "2cKs_pZ6p-Qb"
      },
      "execution_count": null,
      "outputs": []
    },
    {
      "cell_type": "code",
      "source": [
        "history = model.fit(train_images, train_labels, epochs=25, validation_data=(test_images, test_labels))          #training the model"
      ],
      "metadata": {
        "colab": {
          "base_uri": "https://localhost:8080/"
        },
        "id": "3n3aEL3n-2_v",
        "outputId": "adc174d4-8686-42b4-a6aa-081b36a7fa12"
      },
      "execution_count": null,
      "outputs": [
        {
          "output_type": "stream",
          "name": "stdout",
          "text": [
            "Epoch 1/25\n",
            "32/32 [==============================] - 21s 578ms/step - loss: 0.7230 - accuracy: 0.5488 - val_loss: 0.6489 - val_accuracy: 0.6295\n",
            "Epoch 2/25\n",
            "32/32 [==============================] - 16s 506ms/step - loss: 0.5964 - accuracy: 0.6882 - val_loss: 0.6146 - val_accuracy: 0.7012\n",
            "Epoch 3/25\n",
            "32/32 [==============================] - 14s 449ms/step - loss: 0.5504 - accuracy: 0.7201 - val_loss: 0.5882 - val_accuracy: 0.7131\n",
            "Epoch 4/25\n",
            "32/32 [==============================] - 14s 452ms/step - loss: 0.4892 - accuracy: 0.7749 - val_loss: 0.5904 - val_accuracy: 0.7211\n",
            "Epoch 5/25\n",
            "32/32 [==============================] - 14s 447ms/step - loss: 0.4450 - accuracy: 0.8018 - val_loss: 0.6028 - val_accuracy: 0.7131\n",
            "Epoch 6/25\n",
            "32/32 [==============================] - 14s 447ms/step - loss: 0.4305 - accuracy: 0.8058 - val_loss: 0.5689 - val_accuracy: 0.7251\n",
            "Epoch 7/25\n",
            "32/32 [==============================] - 14s 436ms/step - loss: 0.4035 - accuracy: 0.8396 - val_loss: 0.6031 - val_accuracy: 0.7052\n",
            "Epoch 8/25\n",
            "32/32 [==============================] - 14s 449ms/step - loss: 0.3902 - accuracy: 0.8357 - val_loss: 0.5671 - val_accuracy: 0.7570\n",
            "Epoch 9/25\n",
            "32/32 [==============================] - 14s 452ms/step - loss: 0.3547 - accuracy: 0.8715 - val_loss: 0.5703 - val_accuracy: 0.7530\n",
            "Epoch 10/25\n",
            "32/32 [==============================] - 17s 533ms/step - loss: 0.3395 - accuracy: 0.8745 - val_loss: 0.5795 - val_accuracy: 0.7450\n",
            "Epoch 11/25\n",
            "32/32 [==============================] - 14s 447ms/step - loss: 0.3123 - accuracy: 0.8894 - val_loss: 0.5681 - val_accuracy: 0.7490\n",
            "Epoch 12/25\n",
            "32/32 [==============================] - 14s 444ms/step - loss: 0.2934 - accuracy: 0.9163 - val_loss: 0.5619 - val_accuracy: 0.7570\n",
            "Epoch 13/25\n",
            "32/32 [==============================] - 15s 458ms/step - loss: 0.2858 - accuracy: 0.9153 - val_loss: 0.5675 - val_accuracy: 0.7490\n",
            "Epoch 14/25\n",
            "32/32 [==============================] - 14s 445ms/step - loss: 0.2601 - accuracy: 0.9253 - val_loss: 0.5681 - val_accuracy: 0.7530\n",
            "Epoch 15/25\n",
            "32/32 [==============================] - 14s 454ms/step - loss: 0.2594 - accuracy: 0.9263 - val_loss: 0.5834 - val_accuracy: 0.7450\n",
            "Epoch 16/25\n",
            "32/32 [==============================] - 14s 449ms/step - loss: 0.2413 - accuracy: 0.9323 - val_loss: 0.5686 - val_accuracy: 0.7610\n",
            "Epoch 17/25\n",
            "32/32 [==============================] - 14s 451ms/step - loss: 0.2172 - accuracy: 0.9552 - val_loss: 0.5804 - val_accuracy: 0.7530\n",
            "Epoch 18/25\n",
            "32/32 [==============================] - 14s 448ms/step - loss: 0.2141 - accuracy: 0.9492 - val_loss: 0.5698 - val_accuracy: 0.7490\n",
            "Epoch 19/25\n",
            "32/32 [==============================] - 14s 455ms/step - loss: 0.2014 - accuracy: 0.9622 - val_loss: 0.5949 - val_accuracy: 0.7291\n",
            "Epoch 20/25\n",
            "32/32 [==============================] - 14s 452ms/step - loss: 0.2057 - accuracy: 0.9532 - val_loss: 0.5741 - val_accuracy: 0.7530\n",
            "Epoch 21/25\n",
            "32/32 [==============================] - 15s 463ms/step - loss: 0.1786 - accuracy: 0.9711 - val_loss: 0.5634 - val_accuracy: 0.7530\n",
            "Epoch 22/25\n",
            "32/32 [==============================] - 14s 454ms/step - loss: 0.1745 - accuracy: 0.9701 - val_loss: 0.5716 - val_accuracy: 0.7450\n",
            "Epoch 23/25\n",
            "32/32 [==============================] - 14s 454ms/step - loss: 0.1630 - accuracy: 0.9751 - val_loss: 0.5750 - val_accuracy: 0.7490\n",
            "Epoch 24/25\n",
            "32/32 [==============================] - 17s 524ms/step - loss: 0.1584 - accuracy: 0.9811 - val_loss: 0.5822 - val_accuracy: 0.7410\n",
            "Epoch 25/25\n",
            "32/32 [==============================] - 24s 725ms/step - loss: 0.1489 - accuracy: 0.9791 - val_loss: 0.5800 - val_accuracy: 0.7410\n"
          ]
        }
      ]
    },
    {
      "cell_type": "code",
      "source": [
        "test_loss, test_acc = model.evaluate(test_images, test_labels)                #sample test with the model\n",
        "print('Test accuracy:', test_acc)\n"
      ],
      "metadata": {
        "colab": {
          "base_uri": "https://localhost:8080/"
        },
        "id": "8gfkp7Rt-4W2",
        "outputId": "cbf6c4a4-d7ab-409c-f395-1e54208c562c"
      },
      "execution_count": null,
      "outputs": [
        {
          "output_type": "stream",
          "name": "stdout",
          "text": [
            "8/8 [==============================] - 2s 293ms/step - loss: 0.5884 - accuracy: 0.7371\n",
            "Test accuracy: 0.737051784992218\n"
          ]
        }
      ]
    },
    {
      "cell_type": "code",
      "source": [
        "import pandas as pd\n",
        "\n",
        "def load_dataset(dataset_dir):\n",
        "    images = []\n",
        "    filenames = []\n",
        "    for filename in os.listdir(dataset_dir):\n",
        "        if filename.endswith('.jpg') or filename.endswith('.png'):\n",
        "            img = cv2.imread(os.path.join(dataset_dir, filename))\n",
        "            img = cv2.resize(img, (128, 128))                    #resizing the test images to same as the ones in training set\n",
        "            img = img / 255.0                                    #rescaling pixel intensities\n",
        "            images.append(img)\n",
        "            filenames.append(filename)\n",
        "    return np.array(images), filenames\n",
        "\n",
        "dataset_dir = \"/content/drive/MyDrive/Test_Images\"              #loading the dataset\n",
        "X, filenames = load_dataset(dataset_dir)\n",
        "predictions = model.predict(X)                                  #predicting values using model"
      ],
      "metadata": {
        "id": "jd_AG_DP_SCc"
      },
      "execution_count": null,
      "outputs": []
    },
    {
      "cell_type": "code",
      "source": [
        "results_df = pd.DataFrame({'Prediction': predictions[:, 0]})                    # create a DataFrame to store predictions and filenames\n",
        "\n",
        "results_df['Id'] = [int(x.split('_')[1].split('.')[0]) for x in filenames]                  # Sort the DataFrame by filenames\n",
        "results_df = results_df.sort_values(by='Id').reset_index(drop=True)\n",
        "\n",
        "results_df['Id'] = results_df['Id'].apply(lambda x: f'image_{x}')                 #removing 'jpg'\n",
        "\n",
        "results_df['Label'] = results_df['Prediction'].apply(lambda x: 'Real' if x >= 0.5 else 'AI')        #assigning predicitons to labels\n",
        "\n",
        "results_df.drop(['Prediction'], axis=1, inplace=True)                                   #removing columns which are not needed\n",
        "\n",
        "results_df.to_csv(\"/content/drive/MyDrive/predictions12345.csv\", header=False, index=False)\n",
        "\n",
        "output_csv_path = \"/content/drive/MyDrive/predictions12345.csv\"            # output results to a CSV file\n",
        "results_df.to_csv(output_csv_path, index=False)\n",
        "\n",
        "print(\"Predictions saved to\", output_csv_path)\n",
        "csv_file_path = \"/content/drive/MyDrive/predictions12345.csv\"\n",
        "\n",
        "predictions_df = pd.read_csv(csv_file_path)                       #csv file read by pandas dataframe\n",
        "\n",
        "print(predictions_df.head())  # Display the first few rows"
      ],
      "metadata": {
        "colab": {
          "base_uri": "https://localhost:8080/"
        },
        "id": "cdT8Gy0KcngS",
        "outputId": "8deb9ef9-e7b0-4f0c-ab67-9d802cb253de"
      },
      "execution_count": null,
      "outputs": [
        {
          "output_type": "stream",
          "name": "stdout",
          "text": [
            "16/16 [==============================] - 5s 256ms/step\n",
            "            Id Label\n",
            "0      image_1  Real\n",
            "1      image_2    AI\n",
            "2      image_3    AI\n",
            "3      image_4  Real\n",
            "4      image_5    AI\n",
            "..         ...   ...\n",
            "495  image_496  Real\n",
            "496  image_497  Real\n",
            "497  image_498  Real\n",
            "498  image_499  Real\n",
            "499  image_500  Real\n",
            "\n",
            "[500 rows x 2 columns]\n",
            "Predictions saved to /content/drive/MyDrive/predictions12345.csv\n",
            "        Id Label\n",
            "0  image_1  Real\n",
            "1  image_2    AI\n",
            "2  image_3    AI\n",
            "3  image_4  Real\n",
            "4  image_5    AI\n",
            "             Id Label\n",
            "count       500   500\n",
            "unique      500     2\n",
            "top     image_1  Real\n",
            "freq          1   279\n"
          ]
        }
      ]
    }
  ]
}